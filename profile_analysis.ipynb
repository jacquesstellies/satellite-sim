{
 "cells": [
  {
   "cell_type": "code",
   "execution_count": 2,
   "metadata": {},
   "outputs": [],
   "source": [
    "import pstats\n"
   ]
  },
  {
   "cell_type": "code",
   "execution_count": 3,
   "metadata": {},
   "outputs": [
    {
     "name": "stdout",
     "output_type": "stream",
     "text": [
      "   Random listing order was used\n",
      "   List reduced from 2718 to 3 due to restriction <'calc_state_rates'>\n",
      "\n",
      "Function                            called...\n",
      "                                        ncalls  tottime  cumtime\n",
      "wheels.py:66(calc_state_rates)      ->   17000    0.002    0.002  {built-in method builtins.abs}\n",
      "                                         17000    0.008    0.008  {built-in method numpy.array}\n",
      "satellite.py:137(calc_state_rates)  ->    4250    0.003    0.054  controller.py:199(calc_torque_control_output)\n",
      "                                          4250    0.001    0.001  fault.py:22(update)\n",
      "                                          8500    0.001    0.001  multiarray.py:153(concatenate)\n",
      "                                          4250    0.007    0.009  my_utils.py:66(cross_product)\n",
      "                                          4250    0.018    0.021  orbit.py:93(calc_dist_torque_Shen)\n",
      "                                          4250    0.001    0.004  shape_base.py:215(_vhstack_dispatcher)\n",
      "                                          4250    0.014    0.029  shape_base.py:292(hstack)\n",
      "                                          4250    0.010    0.013  twodim_base.py:158(eye)\n",
      "                                          4250    0.040    0.071  wheels.py:185(calc_state_rates)\n",
      "                                          4250    0.079    0.096  wheels.py:198(calc_state_outputs)\n",
      "                                          4250    0.003    0.003  {built-in method builtins.abs}\n",
      "                                          4250    0.002    0.002  {built-in method numpy.zeros}\n",
      "                                         23766    0.003    0.003  {method 'append' of 'list' objects}\n",
      "                                          4250    0.001    0.001  {method 'normalized' of 'quaternion.quaternion' objects}\n",
      "wheels.py:185(calc_state_rates)     ->   17000    0.020    0.031  wheels.py:66(calc_state_rates)\n",
      "\n",
      "\n"
     ]
    },
    {
     "data": {
      "text/plain": [
       "<pstats.Stats at 0x75b08c1c4890>"
      ]
     },
     "execution_count": 3,
     "metadata": {},
     "output_type": "execute_result"
    }
   ],
   "source": [
    "p = pstats.Stats('./data_logs/profile_stats.prof')\n",
    "# print(p.strip_dirs().sort_stats('cumulative').print_stats(30)\n",
    "a = p.strip_dirs().print_callees('calc_state_rates')\n",
    "a"
   ]
  },
  {
   "cell_type": "code",
   "execution_count": 6,
   "metadata": {},
   "outputs": [
    {
     "name": "stdout",
     "output_type": "stream",
     "text": [
      "Wed Oct  8 15:47:08 2025    ./data_logs/profile_stats.prof\n",
      "\n",
      "         5199140 function calls (5068824 primitive calls) in 4.044 seconds\n",
      "\n",
      "   Ordered by: cumulative time\n",
      "   List reduced from 2718 to 30 due to restriction <30>\n",
      "\n",
      "   ncalls  tottime  percall  cumtime  percall filename:lineno(function)\n",
      "    173/1    0.002    0.000    4.048    4.048 {built-in method builtins.exec}\n",
      "        1    0.000    0.000    4.048    4.048 <string>:1(<module>)\n",
      "        1    0.000    0.000    4.048    4.048 main.py:431(main)\n",
      "       13    0.000    0.000    3.146    0.242 figure.py:3234(savefig)\n",
      "       13    0.001    0.000    3.145    0.242 backend_bases.py:2052(print_figure)\n",
      "        2    0.000    0.000    2.249    1.125 main.py:325(create_plots_separated)\n",
      "       26    0.000    0.000    1.857    0.071 artist.py:93(draw_wrapper)\n",
      "  4344/26    0.012    0.000    1.857    0.071 artist.py:54(draw_wrapper)\n",
      "       26    0.000    0.000    1.857    0.071 figure.py:3134(draw)\n",
      "    66/26    0.001    0.000    1.846    0.071 image.py:114(_draw_list_compositing_images)\n",
      "       40    0.001    0.000    1.846    0.046 _base.py:3005(draw)\n",
      "        1    0.000    0.000    1.295    1.295 main.py:358(create_plots_combined)\n",
      "      936    0.032    0.000    1.202    0.001 axis.py:1270(_update_ticks)\n",
      "       80    0.002    0.000    1.126    0.014 axis.py:1379(draw)\n",
      "       26    0.000    0.000    1.001    0.039 backend_bases.py:2043(<lambda>)\n",
      "       26    0.001    0.000    1.001    0.039 backend_pdf.py:2791(print_pdf)\n",
      "    53/13    0.000    0.000    0.992    0.076 deprecation.py:443(wrapper)\n",
      "       13    0.001    0.000    0.992    0.076 figure.py:1736(get_tightbbox)\n",
      "       40    0.002    0.000    0.840    0.021 _base.py:4338(get_tightbbox)\n",
      "      152    0.003    0.000    0.722    0.005 axis.py:1320(get_tightbbox)\n",
      "      472    0.008    0.000    0.493    0.001 spines.py:142(get_window_extent)\n",
      "        1    0.000    0.000    0.487    0.487 main.py:189(simulate)\n",
      "        1    0.005    0.005    0.487    0.487 ivp.py:159(solve_ivp)\n",
      "     3252    0.086    0.000    0.456    0.000 text.py:358(_get_layout)\n",
      "      706    0.001    0.000    0.452    0.001 base.py:175(step)\n",
      "      706    0.009    0.000    0.451    0.001 rk.py:111(_step_impl)\n",
      "       36    0.001    0.000    0.438    0.012 legend.py:751(draw)\n",
      "      708    0.028    0.000    0.433    0.001 rk.py:14(rk_step)\n",
      "       80    0.000    0.000    0.413    0.005 artist.py:1404(_get_tightbbox_for_layout_only)\n",
      "     4250    0.002    0.000    0.405    0.000 base.py:152(fun)\n",
      "\n",
      "\n"
     ]
    }
   ],
   "source": [
    "a = p.strip_dirs().sort_stats(pstats.SortKey.CUMULATIVE).print_stats(30)"
   ]
  },
  {
   "cell_type": "code",
   "execution_count": 4,
   "metadata": {},
   "outputs": [
    {
     "name": "stdout",
     "output_type": "stream",
     "text": [
      "Wed Oct  8 15:47:08 2025    ./data_logs/profile_stats.prof\n",
      "\n",
      "         5199140 function calls (5068824 primitive calls) in 4.044 seconds\n",
      "\n",
      "   Random listing order was used\n",
      "   List reduced from 2718 to 1 due to restriction <'cross'>\n",
      "\n",
      "   ncalls  tottime  percall  cumtime  percall filename:lineno(function)\n",
      "     4250    0.007    0.000    0.009    0.000 my_utils.py:66(cross_product)\n",
      "\n",
      "\n"
     ]
    },
    {
     "data": {
      "text/plain": [
       "<pstats.Stats at 0x75b08c1c4890>"
      ]
     },
     "execution_count": 4,
     "metadata": {},
     "output_type": "execute_result"
    }
   ],
   "source": [
    "p.strip_dirs().print_stats('cross')"
   ]
  },
  {
   "cell_type": "code",
   "execution_count": 5,
   "metadata": {},
   "outputs": [
    {
     "name": "stdout",
     "output_type": "stream",
     "text": [
      "   Random listing order was used\n",
      "   List reduced from 2718 to 3 due to restriction <'calc_state_rates'>\n",
      "\n",
      "Function                            was called by...\n",
      "                                        ncalls  tottime  cumtime\n",
      "wheels.py:66(calc_state_rates)      <-   17000    0.020    0.031  wheels.py:185(calc_state_rates)\n",
      "satellite.py:137(calc_state_rates)  <-    4250    0.089    0.396  base.py:22(fun_wrapped)\n",
      "wheels.py:185(calc_state_rates)     <-    4250    0.040    0.071  satellite.py:137(calc_state_rates)\n",
      "\n",
      "\n"
     ]
    },
    {
     "data": {
      "text/plain": [
       "<pstats.Stats at 0x75b08c1c4890>"
      ]
     },
     "execution_count": 5,
     "metadata": {},
     "output_type": "execute_result"
    }
   ],
   "source": [
    "p.strip_dirs().print_callers('calc_state_rates')"
   ]
  }
 ],
 "metadata": {
  "kernelspec": {
   "display_name": ".venv (3.12.11)",
   "language": "python",
   "name": "python3"
  },
  "language_info": {
   "codemirror_mode": {
    "name": "ipython",
    "version": 3
   },
   "file_extension": ".py",
   "mimetype": "text/x-python",
   "name": "python",
   "nbconvert_exporter": "python",
   "pygments_lexer": "ipython3",
   "version": "3.12.11"
  }
 },
 "nbformat": 4,
 "nbformat_minor": 2
}
