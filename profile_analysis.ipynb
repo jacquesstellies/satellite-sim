{
 "cells": [
  {
   "cell_type": "code",
   "execution_count": null,
   "metadata": {},
   "outputs": [],
   "source": [
    "import pstats\n"
   ]
  },
  {
   "cell_type": "code",
   "execution_count": 1,
   "metadata": {},
   "outputs": [
    {
     "name": "stdout",
     "output_type": "stream",
     "text": [
      "   Random listing order was used\n",
      "   List reduced from 1611 to 3 due to restriction <'calc_state_rates'>\n",
      "\n",
      "Function                            called...\n",
      "                                        ncalls  tottime  cumtime\n",
      "wheels.py:55(calc_state_rates)      ->  367784    0.108    0.108  fault.py:23(update)\n",
      "                                        367784    3.440    5.022  wheels.py:87(calc_sensor_output)\n",
      "wheels.py:152(calc_state_rates)     ->   91946    0.024    0.024  multiarray.py:153(concatenate)\n",
      "                                        367784    3.195    8.325  wheels.py:55(calc_state_rates)\n",
      "                                        183892    0.045    0.045  {built-in method builtins.len}\n",
      "                                        183892    0.163    0.163  {built-in method numpy.zeros}\n",
      "satellite.py:119(calc_state_rates)  ->    3000    0.063    0.402  controller.py:202(calc_torque_control_output)\n",
      "                                        183892    0.049    0.049  multiarray.py:153(concatenate)\n",
      "                                         91946    0.037    0.037  numeric.py:1464(_cross_dispatcher)\n",
      "                                         91946    3.612    9.226  numeric.py:1468(cross)\n",
      "                                         91946    1.029    1.249  orbit.py:93(calc_dist_torque_Shen)\n",
      "                                         91946    0.082    0.252  shape_base.py:215(_vhstack_dispatcher)\n",
      "                                         91946    0.814    1.713  shape_base.py:292(hstack)\n",
      "                                         91946    3.000   11.557  wheels.py:152(calc_state_rates)\n",
      "                                         91946    4.950    6.428  wheels.py:169(calc_state_outputs)\n",
      "                                        183892    0.195    0.195  {built-in method numpy.zeros}\n",
      "                                       1655028    0.553    0.553  {method 'append' of 'list' objects}\n",
      "                                         91946    0.051    0.051  {method 'normalized' of 'quaternion.quaternion' objects}\n",
      "\n",
      "\n"
     ]
    },
    {
     "data": {
      "text/plain": [
       "<pstats.Stats at 0x163fffc0f20>"
      ]
     },
     "execution_count": 1,
     "metadata": {},
     "output_type": "execute_result"
    }
   ],
   "source": [
    "p = pstats.Stats('./data_logs/profile_stats.prof')\n",
    "# print(p.strip_dirs().sort_stats('cumulative').print_stats(30)\n",
    "a = p.strip_dirs().print_callees('calc_state_rates')\n",
    "a"
   ]
  },
  {
   "cell_type": "code",
   "execution_count": 4,
   "metadata": {},
   "outputs": [
    {
     "name": "stdout",
     "output_type": "stream",
     "text": [
      "Mon Aug 18 11:34:30 2025    ./data_logs/profile_stats.prof\n",
      "\n",
      "         114882328 function calls (110461529 primitive calls) in 227.927 seconds\n",
      "\n",
      "   Ordered by: cumulative time\n",
      "   List reduced from 1611 to 30 due to restriction <30>\n",
      "\n",
      "   ncalls  tottime  percall  cumtime  percall filename:lineno(function)\n",
      "     37/1    0.001    0.000  227.928  227.928 {built-in method builtins.exec}\n",
      "        1    0.000    0.000  227.928  227.928 main.py:432(main)\n",
      "        1    1.021    1.021  180.216  180.216 main.py:206(collect_results)\n",
      "   367784    1.600    0.000  120.653    0.000 arrayprint.py:1487(_array_repr_implementation)\n",
      "   367784    1.801    0.000  118.268    0.000 arrayprint.py:561(array2string)\n",
      "   367784    1.751    0.000  112.773    0.000 arrayprint.py:506(wrapper)\n",
      "   367784    3.108    0.000  110.246    0.000 arrayprint.py:523(_array2string)\n",
      "       16   57.718    3.607   57.718    3.607 {built-in method builtins.print}\n",
      "   367784    0.704    0.000   53.512    0.000 arrayprint.py:780(_formatArray)\n",
      "   367784    2.274    0.000   53.388    0.000 arrayprint.py:452(_get_format_function)\n",
      "4781192/367784   20.447    0.000   52.807    0.000 arrayprint.py:789(recurser)\n",
      "   367784    0.826    0.000   49.549    0.000 arrayprint.py:411(<lambda>)\n",
      "   367784    1.566    0.000   48.723    0.000 arrayprint.py:907(__init__)\n",
      "   367784   14.526    0.000   46.825    0.000 arrayprint.py:934(fillFormat)\n",
      "        1    0.000    0.000   43.730   43.730 main.py:192(simulate)\n",
      "        1    0.140    0.140   43.730   43.730 ivp.py:156(solve_ivp)\n",
      "    14041    0.048    0.000   43.153    0.003 base.py:175(step)\n",
      "    14041    0.495    0.000   43.104    0.003 rk.py:111(_step_impl)\n",
      "    15324    1.571    0.000   42.100    0.003 rk.py:14(rk_step)\n",
      "    91946    0.137    0.000   40.502    0.000 base.py:152(fun)\n",
      "    91946    0.346    0.000   40.365    0.000 base.py:22(fun_wrapped)\n",
      "    91946    8.244    0.000   39.956    0.000 satellite.py:119(calc_state_rates)\n",
      "  3310056   11.748    0.000   14.992    0.000 arrayprint.py:1018(__call__)\n",
      "  3310056    4.687    0.000   14.072    0.000 arrayprint.py:753(_extendLine_pretty)\n",
      "    91946    3.000    0.000   11.557    0.000 wheels.py:152(calc_state_rates)\n",
      "  3470740    3.079    0.000   10.562    0.000 arrayprint.py:989(<genexpr>)\n",
      "    91946    3.612    0.000    9.226    0.000 numeric.py:1468(cross)\n",
      "   367784    3.195    0.000    8.325    0.000 wheels.py:55(calc_state_rates)\n",
      "  1864417    3.312    0.000    7.800    0.000 {built-in method builtins.max}\n",
      "37165558/37165485    7.310    0.000    7.310    0.000 {built-in method builtins.len}\n",
      "\n",
      "\n"
     ]
    }
   ],
   "source": [
    "a = p.strip_dirs().sort_stats(pstats.SortKey.CUMULATIVE).print_stats(30)"
   ]
  },
  {
   "cell_type": "code",
   "execution_count": 6,
   "metadata": {},
   "outputs": [
    {
     "name": "stdout",
     "output_type": "stream",
     "text": [
      "   Random listing order was used\n",
      "   List reduced from 327 to 3 due to restriction <'calc_state_rates'>\n",
      "\n",
      "Function                            was called by...\n",
      "                                        ncalls  tottime  cumtime\n",
      "satellite.py:116(calc_state_rates)  <-  242102   18.871  107.806  base.py:22(fun_wrapped)\n",
      "wheels.py:53(calc_state_rates)      <-  968408    7.731    7.731  wheels.py:132(calc_state_rates)\n",
      "wheels.py:132(calc_state_rates)     <-  242102    9.916   36.635  satellite.py:116(calc_state_rates)\n",
      "\n",
      "\n"
     ]
    },
    {
     "data": {
      "text/plain": [
       "<pstats.Stats at 0x1de1f95f140>"
      ]
     },
     "execution_count": 6,
     "metadata": {},
     "output_type": "execute_result"
    }
   ],
   "source": [
    "p.strip_dirs().print_callers('calc_state_rates')"
   ]
  }
 ],
 "metadata": {
  "kernelspec": {
   "display_name": ".venv (3.12.2)",
   "language": "python",
   "name": "python3"
  },
  "language_info": {
   "codemirror_mode": {
    "name": "ipython",
    "version": 3
   },
   "file_extension": ".py",
   "mimetype": "text/x-python",
   "name": "python",
   "nbconvert_exporter": "python",
   "pygments_lexer": "ipython3",
   "version": "3.12.10"
  }
 },
 "nbformat": 4,
 "nbformat_minor": 2
}
