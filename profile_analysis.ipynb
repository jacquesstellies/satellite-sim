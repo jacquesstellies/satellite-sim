{
 "cells": [
  {
   "cell_type": "code",
   "execution_count": 2,
   "metadata": {},
   "outputs": [],
   "source": [
    "import pstats\n"
   ]
  },
  {
   "cell_type": "code",
   "execution_count": 17,
   "metadata": {},
   "outputs": [
    {
     "name": "stdout",
     "output_type": "stream",
     "text": [
      "   Random listing order was used\n",
      "   List reduced from 3312 to 3 due to restriction <'calc_state_rates'>\n",
      "\n",
      "Function                            called...\n",
      "                                        ncalls  tottime  cumtime\n",
      "satellite.py:127(calc_state_rates)  ->    3001    0.006    0.265  controller.py:173(calc_torque_control_output)\n",
      "                                         18032    0.003    0.003  numeric.py:1464(_cross_dispatcher)\n",
      "                                         18032    0.293    0.751  numeric.py:1468(cross)\n",
      "                                         18032    0.087    0.106  orbit.py:93(calc_dist_torque_Shen)\n",
      "                                         18032    0.007    0.020  shape_base.py:215(_vhstack_dispatcher)\n",
      "                                         18032    0.068    0.134  shape_base.py:292(hstack)\n",
      "                                          3000    0.074    0.145  wheels.py:148(calc_state_rates)\n",
      "                                        324576    0.043    0.043  {method 'append' of 'list' objects}\n",
      "                                         18032    0.004    0.004  {method 'normalized' of 'quaternion.quaternion' objects}\n",
      "wheels.py:52(calc_state_rates)      ->   12000    0.005    0.005  my_utils.py:61(low_pass_filter)\n",
      "wheels.py:148(calc_state_rates)     ->   12000    0.062    0.067  wheels.py:52(calc_state_rates)\n",
      "                                          3000    0.000    0.000  {built-in method builtins.len}\n",
      "                                          9000    0.003    0.003  {built-in method numpy.zeros}\n",
      "\n",
      "\n"
     ]
    },
    {
     "data": {
      "text/plain": [
       "<pstats.Stats at 0x20a54c06c00>"
      ]
     },
     "execution_count": 17,
     "metadata": {},
     "output_type": "execute_result"
    }
   ],
   "source": [
    "p = pstats.Stats('./data_logs/profile_stats.prof')\n",
    "# p.strip_dirs().sort_stats('cumulative').print_stats(30)\n",
    "a = p.strip_dirs().print_callees('calc_state_rates')\n",
    "a"
   ]
  },
  {
   "cell_type": "code",
   "execution_count": 12,
   "metadata": {},
   "outputs": [
    {
     "name": "stdout",
     "output_type": "stream",
     "text": [
      "   Random listing order was used\n",
      "   List reduced from 3312 to 3 due to restriction <'calc_state_rates'>\n",
      "\n",
      "Function                            was called by...\n",
      "                                        ncalls  tottime  cumtime\n",
      "satellite.py:127(calc_state_rates)  <-   18032    0.432    1.902  base.py:22(fun_wrapped)\n",
      "wheels.py:52(calc_state_rates)      <-   12000    0.062    0.067  wheels.py:148(calc_state_rates)\n",
      "wheels.py:148(calc_state_rates)     <-    3000    0.074    0.145  satellite.py:127(calc_state_rates)\n",
      "\n",
      "\n"
     ]
    },
    {
     "data": {
      "text/plain": [
       "<pstats.Stats at 0x20a31626ed0>"
      ]
     },
     "execution_count": 12,
     "metadata": {},
     "output_type": "execute_result"
    }
   ],
   "source": [
    "p.strip_dirs().print_callers('calc_state_rates')"
   ]
  }
 ],
 "metadata": {
  "kernelspec": {
   "display_name": ".venv",
   "language": "python",
   "name": "python3"
  },
  "language_info": {
   "codemirror_mode": {
    "name": "ipython",
    "version": 3
   },
   "file_extension": ".py",
   "mimetype": "text/x-python",
   "name": "python",
   "nbconvert_exporter": "python",
   "pygments_lexer": "ipython3",
   "version": "3.12.10"
  }
 },
 "nbformat": 4,
 "nbformat_minor": 2
}
